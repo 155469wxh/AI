{
 "cells": [
  {
   "cell_type": "code",
   "execution_count": 2,
   "metadata": {},
   "outputs": [
    {
     "name": "stdout",
     "output_type": "stream",
     "text": [
      "转换完成，Excel文件保存在: D:/AI/AAAI会议论文聚类分析/Dataset/File.xlsx\n"
     ]
    }
   ],
   "source": [
    "import pandas as pd\n",
    "\n",
    "# 读取CSV文件\n",
    "\n",
    "csv_file_path = 'D:\\AI\\AAAI会议论文聚类分析\\Dataset\\[UCI] AAAI-14 Accepted Papers - Papers.csv'\n",
    "df = pd.read_csv(csv_file_path)\n",
    "\n",
    "# 将DataFrame保存为Excel文件\n",
    "excel_file_path = 'D:/AI/AAAI会议论文聚类分析/Dataset/File.xlsx'\n",
    "\n",
    "df.to_excel(excel_file_path, index=False)\n",
    "\n",
    "print(f'转换完成，Excel文件保存在: {excel_file_path}')\n"
   ]
  }
 ],
 "metadata": {
  "kernelspec": {
   "display_name": "Python 3",
   "language": "python",
   "name": "python3"
  },
  "language_info": {
   "codemirror_mode": {
    "name": "ipython",
    "version": 3
   },
   "file_extension": ".py",
   "mimetype": "text/x-python",
   "name": "python",
   "nbconvert_exporter": "python",
   "pygments_lexer": "ipython3",
   "version": "3.11.4"
  }
 },
 "nbformat": 4,
 "nbformat_minor": 2
}
