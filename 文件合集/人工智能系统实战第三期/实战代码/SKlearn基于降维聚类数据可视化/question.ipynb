{
 "cells": [
  {
   "cell_type": "markdown",
   "metadata": {},
   "source": [
    "## 问题1\n",
    "\n",
    "使用sklearn库中的PCA并可视化数据使用 PCA 可视化单细胞表达数据\n",
    "\n",
    "在本实验中，您将使用 PCA 可视化来自Guo 等人的一些单细胞基因表达数据。 “从受精卵到囊胚的单细胞基因表达分析揭示细胞命运决定的解决方案”，《发育细胞》，第 18 卷，第 4 期，2010 年 4 月 20 日，第 675-685 页，可从 http://dx.doi.org/10.1016 获取 /j.devcel.2010.02.012。 论文 pdf 版本可在第 4 周的讲义文件夹中找到。\n",
    "\n",
    "数据来自小鼠 qPCR TaqMan 阵列单细胞实验。 数据取自胚泡形成时的早期发育阶段。 在 32 细胞阶段，数据已被分离成滋养外胚层 (TE)，进而形成胎盘和内细胞团 (ICM)。 ICM 进一步分化为外胚层 (EPI)（产生内胚层、中胚层和外胚层）以及发育成羊膜袋的原始内胚层 (PE)。 郭等人选择了48个基因进行表达测量。 他们标记了生成的细胞，并将其标签作为可视化的辅助工具。"
   ]
  },
  {
   "cell_type": "markdown",
   "metadata": {},
   "source": [
    "## 问题2\n",
    "\n",
    "需要多少个主成分（PC）才能解释数据中80%以上的数据？"
   ]
  },
  {
   "cell_type": "markdown",
   "metadata": {},
   "source": [
    "## 问题3\n",
    "\n",
    "您认为哪种 PC 对于区分 TE 单元类型（32TE 和 64TE）与其他单元最有用？"
   ]
  },
  {
   "cell_type": "markdown",
   "metadata": {},
   "source": [
    "## 问题4\n",
    "\n",
    "哪对组合的 PC 1,2 和 3 能够最好地将 2 细胞阶段与其余阶段分开（例如 PC 1&2、1&3 或 2&3）？"
   ]
  },
  {
   "cell_type": "markdown",
   "metadata": {},
   "source": [
    "## 问题5\n",
    "\n",
    "使用肘部法则来确定最佳聚类数。"
   ]
  },
  {
   "cell_type": "markdown",
   "metadata": {},
   "source": [
    "## 问题6\n",
    "\n",
    "使用KMeans算法，DBSCAN算法和高斯混合模型进行聚类"
   ]
  },
  {
   "cell_type": "markdown",
   "metadata": {},
   "source": [
    "## 问题7\n",
    "\n",
    "对问题6的结果进行二维和三维的可视化"
   ]
  }
 ],
 "metadata": {
  "kernelspec": {
   "display_name": "pytorch20.1",
   "language": "python",
   "name": "python3"
  },
  "language_info": {
   "codemirror_mode": {
    "name": "ipython",
    "version": 3
   },
   "file_extension": ".py",
   "mimetype": "text/x-python",
   "name": "python",
   "nbconvert_exporter": "python",
   "pygments_lexer": "ipython3",
   "version": "3.11.4"
  },
  "orig_nbformat": 4
 },
 "nbformat": 4,
 "nbformat_minor": 2
}
