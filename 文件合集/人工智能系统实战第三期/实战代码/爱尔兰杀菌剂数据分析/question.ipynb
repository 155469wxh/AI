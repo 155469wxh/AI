{
 "cells": [
  {
   "cell_type": "markdown",
   "metadata": {},
   "source": [
    "## 问题一\n",
    "\n",
    "读取Data1中成对的ha和ac表格数据，组合成下表形式columns=['Year', 'Crop Type', 'Crop', 'Fungicide', 'Hectares', 'Active Substance'] 其中，Year和Crop Type取自表格名(e.g. 1987_Orchards_fruit_ha.xlsx)  Crop列对应ha或ac表格中的行名；Fungicide列对应ha或ac表格中的列名 Hectares对应ha表格中的值；Active Substance对应ac表格中的值\n",
    "\n",
    "\n",
    "注意：开始分析之前，首先需要对数据进行清洗和预处理。这一步是必要的，因为清洗后的数据会让后续的统计和可视化更准确。\n",
    "\n",
    "例如：\n",
    "1.Hectares和Active Substance是应该数值类型，请处理缺失值、异常值， 将原始数据中的空值替换为0.0， 并将原始数据中的“<1”替换为0.1。 这将确保所有数据都是数字类型， 便于以后的计算和处理。"
   ]
  },
  {
   "cell_type": "markdown",
   "metadata": {},
   "source": [
    "## 问题二\n",
    "\n",
    "删除Other Fungicide等综合基数的值。且文件夹中文件名可能格式不唯一。导致提取的新表格中，同类作物在Crop type列可能存在不同的命名。因此，请将名称包含 'Arable' 的值重命名为 'Arable_crops'，以此类推"
   ]
  },
  {
   "cell_type": "markdown",
   "metadata": {},
   "source": [
    "## 问题三\n",
    "\n",
    "使用散点图说明不同作物类型报告和年份之间的关系。"
   ]
  },
  {
   "cell_type": "markdown",
   "metadata": {},
   "source": [
    "## 问题四\n",
    "\n",
    "用柱状图表示不同作物类型中，年份和杀菌剂使用的关系"
   ]
  },
  {
   "cell_type": "markdown",
   "metadata": {},
   "source": [
    "## 问题五\n",
    "\n",
    "在同一张柱状图中，表示不同作物类型在每年中使用的杀菌剂公顷数"
   ]
  },
  {
   "cell_type": "markdown",
   "metadata": {},
   "source": [
    "## 问题六\n",
    "\n",
    "用折线图表示不同作物类型每年使用杀菌剂的密度"
   ]
  },
  {
   "cell_type": "markdown",
   "metadata": {},
   "source": [
    "## 问题七\n",
    "\n",
    "用柱状图表示所有杀菌剂中使用周期（last year - first year）排名前十的使用情况"
   ]
  },
  {
   "cell_type": "markdown",
   "metadata": {},
   "source": [
    "## 问题八\n",
    "\n",
    "用折线图表示不同作物类型中每年使用的杀菌剂的数量变化"
   ]
  }
 ],
 "metadata": {
  "kernelspec": {
   "display_name": "Python 3",
   "language": "python",
   "name": "python3"
  },
  "language_info": {
   "codemirror_mode": {
    "name": "ipython",
    "version": 3
   },
   "file_extension": ".py",
   "mimetype": "text/x-python",
   "name": "python",
   "nbconvert_exporter": "python",
   "pygments_lexer": "ipython3",
   "version": "3.11.4"
  },
  "orig_nbformat": 4
 },
 "nbformat": 4,
 "nbformat_minor": 2
}
