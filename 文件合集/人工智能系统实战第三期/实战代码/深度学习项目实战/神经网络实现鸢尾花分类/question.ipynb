{
 "cells": [
  {
   "cell_type": "markdown",
   "metadata": {},
   "source": [
    "## 一、案例简介\n",
    "\n",
    "Iris数据集是常用的分类实验数据集，由Fisher, 1936收集整理。Iris也称鸢尾花卉数据集，是一类多重变量分析的数据集。数据集包含150个数据样本，分为3类，每类50个数据，每个数据包含4个属性。可通过花萼长度，花萼宽度，花瓣长度，花瓣宽度4个属性预测鸢尾花卉属于（Setosa，Versicolour，Virginica）三个种类中的哪一类。\n",
    "\n",
    "注意：本项目提供一大一小两个数据集（data，data_s）。请根据个人电脑配置选择不同的数据集，如果电脑配置一般，建议选择小数据集\n",
    "\n",
    "## 二、作业说明\n",
    "具体数据详见文件 Iris_data.txt\n",
    "\n",
    "鸢尾花卉数据集的读取方法是自定义的，继承了pytorch的Dataset类，详见文件 data_loader.py。要求在fully_connected_network.py中完成模型的搭建，训练，验证和测试。 \n",
    "\n",
    "### 基础任务（80分）：\n",
    "1. 完成神经网络模型的搭建\n",
    "\n",
    "2. 完成模型训练脚本\n",
    "\n",
    "3. 完成模型验证脚本\n",
    "\n",
    "4. 完成模型测试脚本\n",
    " \n",
    "\n",
    "\n",
    "### 扩展任务（20分）：\n",
    "1. 使用python脚本实现的感知机模型，不依赖于pytorch"
   ]
  }
 ],
 "metadata": {
  "language_info": {
   "name": "python"
  },
  "orig_nbformat": 4
 },
 "nbformat": 4,
 "nbformat_minor": 2
}
