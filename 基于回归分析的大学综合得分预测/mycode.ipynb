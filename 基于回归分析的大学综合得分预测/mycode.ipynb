{
 "cells": [
  {
   "cell_type": "markdown",
   "metadata": {},
   "source": [
    "我们将使用Kaggle的数据集，利用线性回归模型，依据大学各项排名的指标来预测其综合得分。可以使用 sk-learn 等第三方库，不要求自己实现线性回归.\n",
    "\n",
    "基础任务（80分）：\n",
    "- 1.观察和可视化数据，揭示数据的特性。\n",
    "- 2.训练集和测试集应按照7:3的比例随机划分，采用RMSE（均方根误差）作为模型的评估标准，计算并获取测试集上的线性回归模型的RMSE值。\n",
    "- 3.对线性回归模型中的系数进行分析。\n",
    "- 4.尝试使用其他类型的回归模型，并比较其效果。\n",
    "\n",
    "进阶任务（20分）：\n",
    "- 1.尝试将地区的离散特征融入到线性回归模型中，然后比较并分析结果。\n",
    "- 2.利用R2指标和VIF指标进行模型评价和特征筛选, 尝试是否可以增加模型精度。\n",
    "- "
   ]
  },
  {
   "cell_type": "code",
   "execution_count": 1,
   "metadata": {},
   "outputs": [],
   "source": [
    "import pandas as pd\n",
    "import numpy as np"
   ]
  },
  {
   "cell_type": "code",
   "execution_count": null,
   "metadata": {},
   "outputs": [],
   "source": []
  }
 ],
 "metadata": {
  "kernelspec": {
   "display_name": "base",
   "language": "python",
   "name": "python3"
  },
  "language_info": {
   "codemirror_mode": {
    "name": "ipython",
    "version": 3
   },
   "file_extension": ".py",
   "mimetype": "text/x-python",
   "name": "python",
   "nbconvert_exporter": "python",
   "pygments_lexer": "ipython3",
   "version": "3.11.4"
  }
 },
 "nbformat": 4,
 "nbformat_minor": 2
}
