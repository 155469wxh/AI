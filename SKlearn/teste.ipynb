{
 "cells": [
  {
   "cell_type": "code",
   "execution_count": 1,
   "metadata": {},
   "outputs": [
    {
     "name": "stdout",
     "output_type": "stream",
     "text": [
      "原始数据:\n",
      " [[1, 2], [3, 4], [5, 6]]\n",
      "\n",
      "标准化后的数据:\n",
      " [[-1.22474487 -1.22474487]\n",
      " [ 0.          0.        ]\n",
      " [ 1.22474487  1.22474487]]\n"
     ]
    }
   ],
   "source": [
    "from sklearn.preprocessing import StandardScaler\n",
    "\n",
    "# 假设有一个包含数值型数据的二维数组或矩阵，命名为data\n",
    "# 例如，data可以是包含两个特征的数据集，每一行是一个样本，每一列是一个特征\n",
    "data = [[1, 2],\n",
    "        [3, 4],\n",
    "        [5, 6]]\n",
    "\n",
    "# 使用StandardScaler对数据进行标准化\n",
    "data_std = StandardScaler().fit_transform(data)\n",
    "\n",
    "# data_std现在包含了标准化后的数据，每个特征都被转换为均值为0，标准差为1的形式\n",
    "print(\"原始数据:\\n\", data)\n",
    "print(\"\\n标准化后的数据:\\n\", data_std)\n"
   ]
  }
 ],
 "metadata": {
  "kernelspec": {
   "display_name": "base",
   "language": "python",
   "name": "python3"
  },
  "language_info": {
   "codemirror_mode": {
    "name": "ipython",
    "version": 3
   },
   "file_extension": ".py",
   "mimetype": "text/x-python",
   "name": "python",
   "nbconvert_exporter": "python",
   "pygments_lexer": "ipython3",
   "version": "3.11.4"
  }
 },
 "nbformat": 4,
 "nbformat_minor": 2
}
